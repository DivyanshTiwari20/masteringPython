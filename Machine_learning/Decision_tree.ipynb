{
 "cells": [
  {
   "cell_type": "code",
   "execution_count": 2,
   "id": "d5d081fd-de2a-4a3f-b3a7-001545fa06a0",
   "metadata": {},
   "outputs": [],
   "source": [
    "## This is the bolierPlate/basic of structure of Decision Tree."
   ]
  },
  {
   "cell_type": "code",
   "execution_count": 45,
   "id": "5fac5f7d-8176-4a32-be24-0d7df61bedca",
   "metadata": {},
   "outputs": [],
   "source": [
    "# Step1: Import libraries and load data_sets\n",
    "import numpy as np\n",
    "import pandas as pd\n",
    "import sklearn.datasets\n",
    "from sklearn.datasets import load_diabetes\n",
    "from sklearn.model_selection import train_test_split\n",
    "from sklearn.tree import DecisionTreeClassifier\n",
    "from sklearn.metrics import accuracy_score, classification_report, confusion_matrix"
   ]
  },
  {
   "cell_type": "code",
   "execution_count": 46,
   "id": "bf2c84b0-d0c9-4a75-9133-eae22117cc13",
   "metadata": {},
   "outputs": [],
   "source": [
    "#Load the diabetes dataset\n",
    "diabetes = load_diabetes()\n",
    "X=diabetes.data\n",
    "y=diabetes.target\n"
   ]
  },
  {
   "cell_type": "code",
   "execution_count": 47,
   "id": "eae0c772-70d9-45a3-8e93-67e1ec04ae2c",
   "metadata": {},
   "outputs": [],
   "source": [
    "# Step 2: Data Preprocessing\n",
    "# In this case, the data is already clean and ready for modeling"
   ]
  },
  {
   "cell_type": "code",
   "execution_count": 48,
   "id": "dfdd929c-dc94-4968-8292-02b34ab3b62b",
   "metadata": {},
   "outputs": [],
   "source": [
    "# Step 3: Split Data\n",
    "X_train, X_test, y_train, y_test = train_test_split(X, y, test_size=0.3, random_state=42)"
   ]
  },
  {
   "cell_type": "code",
   "execution_count": 49,
   "id": "0145f8fb-2c06-4df1-bb81-e776cb2c0dc2",
   "metadata": {},
   "outputs": [],
   "source": [
    "# Step 4: Train Model\n",
    "model= DecisionTreeClassifier()"
   ]
  },
  {
   "cell_type": "code",
   "execution_count": 50,
   "id": "42de65b0-cb6d-45fa-a34c-2200e914dd78",
   "metadata": {},
   "outputs": [
    {
     "data": {
      "text/html": [
       "<style>#sk-container-id-4 {color: black;background-color: white;}#sk-container-id-4 pre{padding: 0;}#sk-container-id-4 div.sk-toggleable {background-color: white;}#sk-container-id-4 label.sk-toggleable__label {cursor: pointer;display: block;width: 100%;margin-bottom: 0;padding: 0.3em;box-sizing: border-box;text-align: center;}#sk-container-id-4 label.sk-toggleable__label-arrow:before {content: \"▸\";float: left;margin-right: 0.25em;color: #696969;}#sk-container-id-4 label.sk-toggleable__label-arrow:hover:before {color: black;}#sk-container-id-4 div.sk-estimator:hover label.sk-toggleable__label-arrow:before {color: black;}#sk-container-id-4 div.sk-toggleable__content {max-height: 0;max-width: 0;overflow: hidden;text-align: left;background-color: #f0f8ff;}#sk-container-id-4 div.sk-toggleable__content pre {margin: 0.2em;color: black;border-radius: 0.25em;background-color: #f0f8ff;}#sk-container-id-4 input.sk-toggleable__control:checked~div.sk-toggleable__content {max-height: 200px;max-width: 100%;overflow: auto;}#sk-container-id-4 input.sk-toggleable__control:checked~label.sk-toggleable__label-arrow:before {content: \"▾\";}#sk-container-id-4 div.sk-estimator input.sk-toggleable__control:checked~label.sk-toggleable__label {background-color: #d4ebff;}#sk-container-id-4 div.sk-label input.sk-toggleable__control:checked~label.sk-toggleable__label {background-color: #d4ebff;}#sk-container-id-4 input.sk-hidden--visually {border: 0;clip: rect(1px 1px 1px 1px);clip: rect(1px, 1px, 1px, 1px);height: 1px;margin: -1px;overflow: hidden;padding: 0;position: absolute;width: 1px;}#sk-container-id-4 div.sk-estimator {font-family: monospace;background-color: #f0f8ff;border: 1px dotted black;border-radius: 0.25em;box-sizing: border-box;margin-bottom: 0.5em;}#sk-container-id-4 div.sk-estimator:hover {background-color: #d4ebff;}#sk-container-id-4 div.sk-parallel-item::after {content: \"\";width: 100%;border-bottom: 1px solid gray;flex-grow: 1;}#sk-container-id-4 div.sk-label:hover label.sk-toggleable__label {background-color: #d4ebff;}#sk-container-id-4 div.sk-serial::before {content: \"\";position: absolute;border-left: 1px solid gray;box-sizing: border-box;top: 0;bottom: 0;left: 50%;z-index: 0;}#sk-container-id-4 div.sk-serial {display: flex;flex-direction: column;align-items: center;background-color: white;padding-right: 0.2em;padding-left: 0.2em;position: relative;}#sk-container-id-4 div.sk-item {position: relative;z-index: 1;}#sk-container-id-4 div.sk-parallel {display: flex;align-items: stretch;justify-content: center;background-color: white;position: relative;}#sk-container-id-4 div.sk-item::before, #sk-container-id-4 div.sk-parallel-item::before {content: \"\";position: absolute;border-left: 1px solid gray;box-sizing: border-box;top: 0;bottom: 0;left: 50%;z-index: -1;}#sk-container-id-4 div.sk-parallel-item {display: flex;flex-direction: column;z-index: 1;position: relative;background-color: white;}#sk-container-id-4 div.sk-parallel-item:first-child::after {align-self: flex-end;width: 50%;}#sk-container-id-4 div.sk-parallel-item:last-child::after {align-self: flex-start;width: 50%;}#sk-container-id-4 div.sk-parallel-item:only-child::after {width: 0;}#sk-container-id-4 div.sk-dashed-wrapped {border: 1px dashed gray;margin: 0 0.4em 0.5em 0.4em;box-sizing: border-box;padding-bottom: 0.4em;background-color: white;}#sk-container-id-4 div.sk-label label {font-family: monospace;font-weight: bold;display: inline-block;line-height: 1.2em;}#sk-container-id-4 div.sk-label-container {text-align: center;}#sk-container-id-4 div.sk-container {/* jupyter's `normalize.less` sets `[hidden] { display: none; }` but bootstrap.min.css set `[hidden] { display: none !important; }` so we also need the `!important` here to be able to override the default hidden behavior on the sphinx rendered scikit-learn.org. See: https://github.com/scikit-learn/scikit-learn/issues/21755 */display: inline-block !important;position: relative;}#sk-container-id-4 div.sk-text-repr-fallback {display: none;}</style><div id=\"sk-container-id-4\" class=\"sk-top-container\"><div class=\"sk-text-repr-fallback\"><pre>DecisionTreeClassifier()</pre><b>In a Jupyter environment, please rerun this cell to show the HTML representation or trust the notebook. <br />On GitHub, the HTML representation is unable to render, please try loading this page with nbviewer.org.</b></div><div class=\"sk-container\" hidden><div class=\"sk-item\"><div class=\"sk-estimator sk-toggleable\"><input class=\"sk-toggleable__control sk-hidden--visually\" id=\"sk-estimator-id-4\" type=\"checkbox\" checked><label for=\"sk-estimator-id-4\" class=\"sk-toggleable__label sk-toggleable__label-arrow\">DecisionTreeClassifier</label><div class=\"sk-toggleable__content\"><pre>DecisionTreeClassifier()</pre></div></div></div></div></div>"
      ],
      "text/plain": [
       "DecisionTreeClassifier()"
      ]
     },
     "execution_count": 50,
     "metadata": {},
     "output_type": "execute_result"
    }
   ],
   "source": [
    "model.fit(X_train,y_train)"
   ]
  },
  {
   "cell_type": "code",
   "execution_count": 51,
   "id": "faa39b55-6d16-4943-95d5-b292d39486f0",
   "metadata": {},
   "outputs": [],
   "source": [
    "y_pred=model.predict(X_test)"
   ]
  },
  {
   "cell_type": "code",
   "execution_count": 52,
   "id": "82124c82-ed5c-42ae-b7a1-136ecf05707b",
   "metadata": {},
   "outputs": [
    {
     "name": "stdout",
     "output_type": "stream",
     "text": [
      "DecisionTreeClassifier Accuracy: 0.007518796992481203\n",
      "              precision    recall  f1-score   support\n",
      "\n",
      "        37.0       0.00      0.00      0.00         1\n",
      "        42.0       0.00      0.00      0.00         1\n",
      "        43.0       0.00      0.00      0.00         0\n",
      "        47.0       0.00      0.00      0.00         0\n",
      "        48.0       0.00      0.00      0.00         2\n",
      "        51.0       0.00      0.00      0.00         0\n",
      "        52.0       0.00      0.00      0.00         3\n",
      "        53.0       0.00      0.00      0.00         1\n",
      "        58.0       0.00      0.00      0.00         0\n",
      "        59.0       0.00      0.00      0.00         1\n",
      "        60.0       0.00      0.00      0.00         2\n",
      "        61.0       0.00      0.00      0.00         2\n",
      "        63.0       0.00      0.00      0.00         3\n",
      "        64.0       0.00      0.00      0.00         1\n",
      "        65.0       0.00      0.00      0.00         1\n",
      "        66.0       0.00      0.00      0.00         0\n",
      "        67.0       0.00      0.00      0.00         1\n",
      "        68.0       0.00      0.00      0.00         1\n",
      "        69.0       0.00      0.00      0.00         1\n",
      "        70.0       0.00      0.00      0.00         1\n",
      "        71.0       0.00      0.00      0.00         1\n",
      "        72.0       0.00      0.00      0.00         4\n",
      "        75.0       0.00      0.00      0.00         0\n",
      "        77.0       0.00      0.00      0.00         1\n",
      "        78.0       0.00      0.00      0.00         0\n",
      "        80.0       0.00      0.00      0.00         0\n",
      "        83.0       0.00      0.00      0.00         0\n",
      "        84.0       0.00      0.00      0.00         2\n",
      "        85.0       0.00      0.00      0.00         0\n",
      "        87.0       0.00      0.00      0.00         1\n",
      "        88.0       0.00      0.00      0.00         1\n",
      "        89.0       0.00      0.00      0.00         1\n",
      "        90.0       0.00      0.00      0.00         4\n",
      "        91.0       0.00      0.00      0.00         1\n",
      "        92.0       0.00      0.00      0.00         0\n",
      "        93.0       0.00      0.00      0.00         1\n",
      "        94.0       0.00      0.00      0.00         2\n",
      "        95.0       0.00      0.00      0.00         1\n",
      "        96.0       0.25      0.50      0.33         2\n",
      "        97.0       0.00      0.00      0.00         2\n",
      "        98.0       0.00      0.00      0.00         1\n",
      "        99.0       0.00      0.00      0.00         1\n",
      "       101.0       0.00      0.00      0.00         2\n",
      "       102.0       0.00      0.00      0.00         2\n",
      "       104.0       0.00      0.00      0.00         1\n",
      "       107.0       0.00      0.00      0.00         1\n",
      "       108.0       0.00      0.00      0.00         1\n",
      "       109.0       0.00      0.00      0.00         0\n",
      "       110.0       0.00      0.00      0.00         1\n",
      "       111.0       0.00      0.00      0.00         1\n",
      "       113.0       0.00      0.00      0.00         1\n",
      "       114.0       0.00      0.00      0.00         0\n",
      "       118.0       0.00      0.00      0.00         1\n",
      "       120.0       0.00      0.00      0.00         0\n",
      "       121.0       0.00      0.00      0.00         1\n",
      "       122.0       0.00      0.00      0.00         1\n",
      "       124.0       0.00      0.00      0.00         0\n",
      "       125.0       0.00      0.00      0.00         1\n",
      "       128.0       0.00      0.00      0.00         2\n",
      "       129.0       0.00      0.00      0.00         2\n",
      "       131.0       0.00      0.00      0.00         0\n",
      "       132.0       0.00      0.00      0.00         1\n",
      "       135.0       0.00      0.00      0.00         1\n",
      "       136.0       0.00      0.00      0.00         1\n",
      "       137.0       0.00      0.00      0.00         1\n",
      "       138.0       0.00      0.00      0.00         0\n",
      "       140.0       0.00      0.00      0.00         2\n",
      "       142.0       0.00      0.00      0.00         0\n",
      "       144.0       0.00      0.00      0.00         1\n",
      "       145.0       0.00      0.00      0.00         0\n",
      "       147.0       0.00      0.00      0.00         0\n",
      "       150.0       0.00      0.00      0.00         1\n",
      "       151.0       0.00      0.00      0.00         1\n",
      "       152.0       0.00      0.00      0.00         0\n",
      "       153.0       0.00      0.00      0.00         1\n",
      "       156.0       0.00      0.00      0.00         1\n",
      "       158.0       0.00      0.00      0.00         1\n",
      "       160.0       0.00      0.00      0.00         0\n",
      "       162.0       0.00      0.00      0.00         0\n",
      "       164.0       0.00      0.00      0.00         1\n",
      "       166.0       0.00      0.00      0.00         1\n",
      "       167.0       0.00      0.00      0.00         1\n",
      "       168.0       0.00      0.00      0.00         2\n",
      "       170.0       0.00      0.00      0.00         1\n",
      "       171.0       0.00      0.00      0.00         1\n",
      "       172.0       0.00      0.00      0.00         1\n",
      "       173.0       0.00      0.00      0.00         1\n",
      "       174.0       0.00      0.00      0.00         1\n",
      "       175.0       0.00      0.00      0.00         0\n",
      "       178.0       0.00      0.00      0.00         1\n",
      "       179.0       0.00      0.00      0.00         0\n",
      "       180.0       0.00      0.00      0.00         1\n",
      "       181.0       0.00      0.00      0.00         1\n",
      "       182.0       0.00      0.00      0.00         0\n",
      "       184.0       0.00      0.00      0.00         1\n",
      "       185.0       0.00      0.00      0.00         0\n",
      "       186.0       0.00      0.00      0.00         1\n",
      "       187.0       0.00      0.00      0.00         1\n",
      "       189.0       0.00      0.00      0.00         1\n",
      "       190.0       0.00      0.00      0.00         1\n",
      "       191.0       0.00      0.00      0.00         0\n",
      "       196.0       0.00      0.00      0.00         0\n",
      "       197.0       0.00      0.00      0.00         1\n",
      "       200.0       0.00      0.00      0.00         1\n",
      "       202.0       0.00      0.00      0.00         2\n",
      "       206.0       0.00      0.00      0.00         1\n",
      "       208.0       0.00      0.00      0.00         0\n",
      "       214.0       0.00      0.00      0.00         1\n",
      "       215.0       0.00      0.00      0.00         0\n",
      "       217.0       0.00      0.00      0.00         0\n",
      "       219.0       0.00      0.00      0.00         1\n",
      "       220.0       0.00      0.00      0.00         2\n",
      "       222.0       0.00      0.00      0.00         1\n",
      "       230.0       0.00      0.00      0.00         1\n",
      "       232.0       0.00      0.00      0.00         2\n",
      "       233.0       0.00      0.00      0.00         2\n",
      "       237.0       0.00      0.00      0.00         1\n",
      "       241.0       0.00      0.00      0.00         0\n",
      "       242.0       0.00      0.00      0.00         2\n",
      "       243.0       0.00      0.00      0.00         0\n",
      "       248.0       0.00      0.00      0.00         1\n",
      "       252.0       0.00      0.00      0.00         1\n",
      "       257.0       0.00      0.00      0.00         1\n",
      "       258.0       0.00      0.00      0.00         1\n",
      "       259.0       0.00      0.00      0.00         0\n",
      "       262.0       0.00      0.00      0.00         1\n",
      "       263.0       0.00      0.00      0.00         1\n",
      "       264.0       0.00      0.00      0.00         1\n",
      "       265.0       0.00      0.00      0.00         1\n",
      "       268.0       0.00      0.00      0.00         0\n",
      "       270.0       0.00      0.00      0.00         1\n",
      "       272.0       0.00      0.00      0.00         1\n",
      "       275.0       0.00      0.00      0.00         1\n",
      "       277.0       0.00      0.00      0.00         1\n",
      "       280.0       0.00      0.00      0.00         1\n",
      "       281.0       0.00      0.00      0.00         2\n",
      "       283.0       0.00      0.00      0.00         1\n",
      "       288.0       0.00      0.00      0.00         0\n",
      "       293.0       0.00      0.00      0.00         0\n",
      "       295.0       0.00      0.00      0.00         1\n",
      "       296.0       0.00      0.00      0.00         0\n",
      "       297.0       0.00      0.00      0.00         1\n",
      "       308.0       0.00      0.00      0.00         0\n",
      "       310.0       0.00      0.00      0.00         1\n",
      "       311.0       0.00      0.00      0.00         0\n",
      "       332.0       0.00      0.00      0.00         0\n",
      "\n",
      "    accuracy                           0.01       133\n",
      "   macro avg       0.00      0.00      0.00       133\n",
      "weighted avg       0.00      0.01      0.01       133\n",
      "\n",
      "[[0 0 0 ... 0 0 0]\n",
      " [0 0 0 ... 0 0 0]\n",
      " [0 0 0 ... 0 0 0]\n",
      " ...\n",
      " [0 0 0 ... 0 0 0]\n",
      " [0 0 0 ... 0 0 0]\n",
      " [0 0 0 ... 0 0 0]]\n"
     ]
    },
    {
     "name": "stderr",
     "output_type": "stream",
     "text": [
      "C:\\ProgramData\\anaconda3\\Lib\\site-packages\\sklearn\\metrics\\_classification.py:1344: UndefinedMetricWarning: Precision and F-score are ill-defined and being set to 0.0 in labels with no predicted samples. Use `zero_division` parameter to control this behavior.\n",
      "  _warn_prf(average, modifier, msg_start, len(result))\n",
      "C:\\ProgramData\\anaconda3\\Lib\\site-packages\\sklearn\\metrics\\_classification.py:1344: UndefinedMetricWarning: Recall and F-score are ill-defined and being set to 0.0 in labels with no true samples. Use `zero_division` parameter to control this behavior.\n",
      "  _warn_prf(average, modifier, msg_start, len(result))\n",
      "C:\\ProgramData\\anaconda3\\Lib\\site-packages\\sklearn\\metrics\\_classification.py:1344: UndefinedMetricWarning: Precision and F-score are ill-defined and being set to 0.0 in labels with no predicted samples. Use `zero_division` parameter to control this behavior.\n",
      "  _warn_prf(average, modifier, msg_start, len(result))\n",
      "C:\\ProgramData\\anaconda3\\Lib\\site-packages\\sklearn\\metrics\\_classification.py:1344: UndefinedMetricWarning: Recall and F-score are ill-defined and being set to 0.0 in labels with no true samples. Use `zero_division` parameter to control this behavior.\n",
      "  _warn_prf(average, modifier, msg_start, len(result))\n",
      "C:\\ProgramData\\anaconda3\\Lib\\site-packages\\sklearn\\metrics\\_classification.py:1344: UndefinedMetricWarning: Precision and F-score are ill-defined and being set to 0.0 in labels with no predicted samples. Use `zero_division` parameter to control this behavior.\n",
      "  _warn_prf(average, modifier, msg_start, len(result))\n",
      "C:\\ProgramData\\anaconda3\\Lib\\site-packages\\sklearn\\metrics\\_classification.py:1344: UndefinedMetricWarning: Recall and F-score are ill-defined and being set to 0.0 in labels with no true samples. Use `zero_division` parameter to control this behavior.\n",
      "  _warn_prf(average, modifier, msg_start, len(result))\n"
     ]
    }
   ],
   "source": [
    "#Evaluate\n",
    "print(\"DecisionTreeClassifier Accuracy:\", accuracy_score(y_test, y_pred))\n",
    "print(classification_report(y_test, y_pred))\n",
    "print(confusion_matrix(y_test, y_pred))"
   ]
  },
  {
   "cell_type": "code",
   "execution_count": 53,
   "id": "1654e87e-8920-42c8-8dcb-3b9231b4afe5",
   "metadata": {},
   "outputs": [],
   "source": [
    "# OK, the above accuracy is so bad if you new in ML & didn't get it we got 0.75% accuracy. Yeah!! Even less than 1%."
   ]
  },
  {
   "cell_type": "code",
   "execution_count": 54,
   "id": "df55a56a-5f46-4445-80e4-4c60d025102d",
   "metadata": {},
   "outputs": [],
   "source": [
    "# But the above code is just the basic of how to use linear Regression working with real world-data and real-world-application could be very different.\n",
    "#The purpose of this notebook is to give you an basic idea of how LinearRegression is used."
   ]
  },
  {
   "cell_type": "code",
   "execution_count": 55,
   "id": "fe6dddad-1559-488a-8fd3-4daed540b6ef",
   "metadata": {},
   "outputs": [],
   "source": [
    "#Thanks.."
   ]
  },
  {
   "cell_type": "code",
   "execution_count": null,
   "id": "de448c70-7a54-41cc-becd-2bbba7cfe2aa",
   "metadata": {},
   "outputs": [],
   "source": []
  }
 ],
 "metadata": {
  "kernelspec": {
   "display_name": "Python 3 (ipykernel)",
   "language": "python",
   "name": "python3"
  },
  "language_info": {
   "codemirror_mode": {
    "name": "ipython",
    "version": 3
   },
   "file_extension": ".py",
   "mimetype": "text/x-python",
   "name": "python",
   "nbconvert_exporter": "python",
   "pygments_lexer": "ipython3",
   "version": "3.11.7"
  }
 },
 "nbformat": 4,
 "nbformat_minor": 5
}
